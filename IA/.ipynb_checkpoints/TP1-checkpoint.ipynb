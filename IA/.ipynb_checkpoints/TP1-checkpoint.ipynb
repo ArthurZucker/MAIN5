{
 "cells": [
  {
   "cell_type": "code",
   "execution_count": 8,
   "metadata": {},
   "outputs": [],
   "source": [
    "import plaidml\n",
    "import plaidml.keras\n",
    "plaidml.keras.install_backend()\n",
    "import os\n",
    "os.environ[\"KERAS_BACKEND\"] = \"plaidml.keras.backend\"\n",
    "import random "
   ]
  },
  {
   "cell_type": "markdown",
   "metadata": {},
   "source": [
    "# Exercice 1 \n"
   ]
  },
  {
   "cell_type": "markdown",
   "metadata": {},
   "source": [
    "## Question 1 "
   ]
  },
  {
   "cell_type": "markdown",
   "metadata": {},
   "source": [
    "Le critère d'arrêt est le suivant : $\\frac{|F(x_{k+1})-F(x_{k})|}{F(x_{k+1})}\\leq \\epsilon$\n",
    "\n",
    "Ici le prof incite à plutôt proposer un nombre d'itération, c'est plus simple d'observer la convergence\n"
   ]
  },
  {
   "cell_type": "markdown",
   "metadata": {},
   "source": [
    "## Question 2"
   ]
  },
  {
   "cell_type": "code",
   "execution_count": 11,
   "metadata": {},
   "outputs": [],
   "source": [
    "def gradient_descent(F,DF,xk,alpha=0.01,epsilon=0.001):\n",
    "    xk1 =  xk - alpha*DF(xk)\n",
    "    while(DF(xk) > epsilon):\n",
    "        temp = xk1\n",
    "        xk1  = xk - alpha*DF(xk)\n",
    "        xk   = temp\n",
    "    return xk1"
   ]
  },
  {
   "cell_type": "markdown",
   "metadata": {},
   "source": [
    "## Question 3"
   ]
  },
  {
   "cell_type": "markdown",
   "metadata": {},
   "source": [
    "Si la fonction n'est pas convexe, on peut tomber sur un minimum local qui n'est pas un forcément globale "
   ]
  },
  {
   "cell_type": "markdown",
   "metadata": {},
   "source": [
    "## Question 4\n"
   ]
  },
  {
   "cell_type": "markdown",
   "metadata": {},
   "source": [
    "Dans le cas convexe, il influence sur la vitesse à laquelle on converge. Cependant dans le cas non convexe, il peut emmener sur un minimum complétement différent"
   ]
  },
  {
   "cell_type": "markdown",
   "metadata": {},
   "source": [
    "# Exercice 2"
   ]
  },
  {
   "cell_type": "markdown",
   "metadata": {},
   "source": [
    "## Question 1"
   ]
  },
  {
   "cell_type": "markdown",
   "metadata": {},
   "source": [
    "Ici on a $\\sum_{i} w_{i}x_{i} - \\theta > 0$ qui donne l'équation de l'hyperplan, dans le plan de dimension $n+1$"
   ]
  },
  {
   "cell_type": "markdown",
   "metadata": {},
   "source": [
    "## Question 2"
   ]
  },
  {
   "cell_type": "markdown",
   "metadata": {},
   "source": [
    "On peut traiter $\\theta$ comme le poids associé à $x_{0}=1$.\n",
    "\n",
    "On peut donc adapter le problème de l'estimation des paramètres en l'estimation d'un unique vecteur \n",
    "\\begin{align}\n",
    "w &= (w_0,w_1,\\dots,w_{n+1})\\\\\n",
    "w &= (\\theta,w_1,\\dots,w_{n+1})\n",
    "\\end{align}\n",
    "\n",
    "On cherche donc un hyperplan en dimension $d+1$ plutôt qu'en dimension $d$.\n",
    "\n",
    "On peut aussi se dire que avec $=0$ on passe par l'origine, $=\\theta$ on ne passe plus forcément par l'origine.\n",
    "\n",
    "On a un degré de liberté en plus, on a maintenant un modèle affine. \n"
   ]
  },
  {
   "cell_type": "markdown",
   "metadata": {},
   "source": [
    "## Question 3"
   ]
  },
  {
   "cell_type": "markdown",
   "metadata": {},
   "source": [
    "Des points disposés de manière circulaire ne peuvent être séparés de manière linéaire. On a l'exemple suivant :"
   ]
  },
  {
   "cell_type": "code",
   "execution_count": 3,
   "metadata": {},
   "outputs": [],
   "source": [
    "from sklearn import cluster, datasets, mixture\n",
    "import numpy as np\n",
    "import matplotlib.pyplot as plt\n",
    "from itertools import cycle, islice\n",
    "n_samples = 1500\n",
    "X,y = datasets.make_circles(n_samples=n_samples, factor=.5,noise=.05)"
   ]
  },
  {
   "cell_type": "code",
   "execution_count": 2,
   "metadata": {},
   "outputs": [
    {
     "data": {
      "image/png": "[encoded data removed]",
      "text/plain": [
       "<Figure size 432x288 with 1 Axes>"
      ]
     },
     "metadata": {},
     "output_type": "display_data"
    }
   ],
   "source": [
    "colors = np.array(list(islice(cycle(['#377eb8', '#ff7f00', '#4daf4a','#f781bf', '#a65628', '#984ea3','#999999', '#e41a1c', '#dede00']),int(max(y) + 1))))\n",
    "colors = np.append(colors, [\"#000000\"])\n",
    "plt.scatter(X[:, 0], X[:, 1], s=10,color=colors[y])\n",
    "plt.xlim(-2.5, 2.5)\n",
    "plt.ylim(-2.5, 2.5)\n",
    "plt.xticks(())\n",
    "plt.yticks(())\n",
    "plt.show()\n",
    "        "
   ]
  },
  {
   "cell_type": "markdown",
   "metadata": {},
   "source": [
    "Ici il vaut mieux passer par les coordonnées polaires"
   ]
  },
  {
   "cell_type": "markdown",
   "metadata": {},
   "source": [
    "## Question 4"
   ]
  },
  {
   "cell_type": "markdown",
   "metadata": {},
   "source": [
    "Il suffit d'ajouter 2 points pour rendre deux classes non linairement séparables"
   ]
  },
  {
   "cell_type": "markdown",
   "metadata": {},
   "source": [
    "# Exercice 3\n"
   ]
  },
  {
   "cell_type": "markdown",
   "metadata": {},
   "source": [
    "## Question 1 : "
   ]
  },
  {
   "cell_type": "markdown",
   "metadata": {},
   "source": [
    "Si l'échantillon n'est pas linéairement séparable, on risque de ne pas avoir de convergence. Tous les exemples ne pourront pas être bien séparés. De plus on bouge tout l'hyperplan pour bien classer l'exemple que l'on veut, ce qui peut tout casser pour les autres points. On bouge trop l'hyperplan pour chaque points mal classés."
   ]
  },
  {
   "cell_type": "markdown",
   "metadata": {},
   "source": [
    "## Question 2 : "
   ]
  },
  {
   "cell_type": "markdown",
   "metadata": {},
   "source": [
    "La descente stochastique de gradient s'effectue de la même façon. On soustrait pour chaque erreur en utilisant le \\textbf{gradient}. Ici on voit bien que le gradient de l'erreur $\\nabla e=(T_{x}-O(x))F(x)'$\n",
    "\n",
    "La somme globale n'intervient pas, le coté stochastique apparait par la prise une par une de chaque exemples. \n",
    "On bouge maintenant petit à petit en utilisant le paramètre $\\epsilon$."
   ]
  },
  {
   "cell_type": "markdown",
   "metadata": {},
   "source": [
    "# Exercice 4\n",
    "## Question 1:"
   ]
  },
  {
   "cell_type": "code",
   "execution_count": 8,
   "metadata": {},
   "outputs": [
    {
     "name": "stdout",
     "output_type": "stream",
     "text": [
      "[[0 0]\n",
      " [0 1]\n",
      " [1 0]\n",
      " [1 1]]\n",
      "[-1  1  1  1]\n",
      "loss = 0.25\n"
     ]
    },
    {
     "data": {
      "image/png": "[encoded data removed]",
      "text/plain": [
       "<Figure size 432x288 with 1 Axes>"
      ]
     },
     "metadata": {},
     "output_type": "display_data"
    }
   ],
   "source": [
    "import matplotlib.animation as animation\n",
    "from matplotlib.animation import FuncAnimation\n",
    "\n",
    "def weight_update(w,x,y):\n",
    "    # Fonction to update the wheights given an exemple and a label \n",
    "    for i in range(len(w)):\n",
    "        w[i] += eps*(y-np.sum(x*w))*x[i]\n",
    "    \n",
    "def E(X,y,w):\n",
    "    e = 0\n",
    "    for i in range(len(X)):\n",
    "        e+= (1/2)*(y[i] - np.sum(X[i]*w))\n",
    "    return e/len(y)\n",
    "\n",
    "def train(X,y):\n",
    "    n = np.shape(X)[1]\n",
    "    w = np.zeros(n)\n",
    "    Er = np.zeros(5001)\n",
    "    W = np.zeros((5001,2))\n",
    "    Er[0] = E(X,y,w)\n",
    "    k = 0 \n",
    "    print(\"loss = {}\".format(Er[k]))\n",
    "    \n",
    "    \n",
    "    while(k<5000):\n",
    "        W[k] = w\n",
    "        for i in range(len(y)):\n",
    "            weight_update(w,X[i],y[i])\n",
    "        k+=1\n",
    "        Er[k] = E(X,y,w)\n",
    "        #print(\"loss = {}\".format(Er[k]))\n",
    "    plt.figure(1)\n",
    "    plt.plot(Er)\n",
    "    plt.show()\n",
    "    return w,W\n",
    "    \n",
    "def predict(x,w):\n",
    "    return np.sum(x*w)\n",
    "\n",
    "# Main code \n",
    "eps = 0.001\n",
    "X = np.array([[0,0],[0,1],[1,0],[1,1]])\n",
    "y = np.array([-1,1,1,1])\n",
    "print(X)\n",
    "print(y)\n",
    "weight,W = train(X,y)\n",
    "\n"
   ]
  },
  {
   "cell_type": "code",
   "execution_count": 9,
   "metadata": {},
   "outputs": [
    {
     "data": {
      "image/png": "[encoded data removed]",
      "text/plain": [
       "<Figure size 432x288 with 1 Axes>"
      ]
     },
     "metadata": {},
     "output_type": "display_data"
    }
   ],
   "source": [
    "import seaborn as sns\n",
    "from matplotlib import cm\n",
    "def update(i):\n",
    "    label = 'timestep {0}'.format(i)\n",
    "    line.set_ydata(W[i][0]+datax*W[i][1])\n",
    "    ax.set_xlabel(label)\n",
    "    return line, ax\n",
    "\n",
    "classes = [\"0\",\"1\"]\n",
    "sns.set(style=\"darkgrid\")\n",
    "fig, ax = plt.subplots()\n",
    "datax = np.linspace(-0.5,1.5)\n",
    "scatter = ax.scatter([0,0,1,1],[0,1,0,1],c=[-1.,2.,2.,2.],cmap=\"RdYlGn\")\n",
    "\n",
    "\n",
    "line, = ax.plot(datax, datax, 'r-', linewidth=2)\n",
    "\n",
    "anim = FuncAnimation(fig, update, frames=np.arange(0, len(W),20), interval=200)\n",
    "anim.save('line.gif', dpi=80, writer='imagemagick')\n",
    "plt.show()"
   ]
  },
  {
   "cell_type": "code",
   "execution_count": null,
   "metadata": {},
   "outputs": [],
   "source": []
  }
 ],
 "metadata": {
  "kernelspec": {
   "display_name": "Python 3",
   "language": "python",
   "name": "python3"
  },
  "language_info": {
   "codemirror_mode": {
    "name": "ipython",
    "version": 3
   },
   "file_extension": ".py",
   "mimetype": "text/x-python",
   "name": "python",
   "nbconvert_exporter": "python",
   "pygments_lexer": "ipython3",
   "version": "3.7.3"
  }
 },
 "nbformat": 4,
 "nbformat_minor": 2
}
